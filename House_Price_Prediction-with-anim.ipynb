{
 "cells": [
  {
   "cell_type": "code",
   "execution_count": 14,
   "metadata": {},
   "outputs": [],
   "source": [
    "import tensorflow.compat.v1 as tf\n",
    "tf.disable_v2_behavior()\n",
    "import numpy as np\n",
    "import math\n",
    "import matplotlib.pyplot as plt\n",
    "import matplotlib.animation as animation"
   ]
  },
  {
   "cell_type": "code",
   "execution_count": 15,
   "metadata": {},
   "outputs": [],
   "source": [
    "# Generate house size\n",
    "num_house = 160\n",
    "np.random.seed(42)\n",
    "house_size = np.random.randint(low=1000, high=3500, size=num_house)\n",
    "\n",
    "# Generate house price\n",
    "np.random.seed(42)\n",
    "house_price = house_size * 100.0 + np.random.randint(low=20000, high=70000, size=num_house)"
   ]
  },
  {
   "cell_type": "code",
   "execution_count": 16,
   "metadata": {},
   "outputs": [
    {
     "data": {
      "image/png": "[encoded data removed]",
      "text/plain": [
       "<Figure size 720x576 with 1 Axes>"
      ]
     },
     "metadata": {
      "needs_background": "light"
     },
     "output_type": "display_data"
    }
   ],
   "source": [
    "# Distribution of randomly generated data\n",
    "plt.plot(house_size, house_price, \"bx\")\n",
    "plt.ylabel(\"Price\")\n",
    "plt.xlabel(\"Size\")\n",
    "plt.show()"
   ]
  },
  {
   "cell_type": "code",
   "execution_count": 17,
   "metadata": {},
   "outputs": [],
   "source": [
    "# normalize values to prevent under/overflows\n",
    "def normalize(array):\n",
    "    return (array - array.mean()) / array.std()"
   ]
  },
  {
   "cell_type": "code",
   "execution_count": 18,
   "metadata": {},
   "outputs": [],
   "source": [
    "# define number of training samples, 0.7=70%. We can take the first\n",
    "# 70% since the vals are randomized\n",
    "num_train_samples = math.floor(num_house * 0.7)"
   ]
  },
  {
   "cell_type": "code",
   "execution_count": 19,
   "metadata": {},
   "outputs": [],
   "source": [
    "# define train data\n",
    "train_house_size = np.asarray(house_size[:num_train_samples])\n",
    "train_price = np.asanyarray(house_price[:num_train_samples:])\n",
    "\n",
    "train_house_size_norm = normalize(train_house_size)\n",
    "train_price_norm = normalize(train_price)\n",
    "\n",
    "# define test data\n",
    "test_house_size = np.array(house_size[num_train_samples:])\n",
    "test_house_price = np.array(house_price[num_train_samples:])\n",
    "\n",
    "test_house_size_norm = normalize(test_house_size)\n",
    "test_house_price_norm = normalize(test_house_price)"
   ]
  },
  {
   "cell_type": "code",
   "execution_count": 20,
   "metadata": {},
   "outputs": [],
   "source": [
    "# set up TensorFlow placeholders that get updates as we descend down the gradient\n",
    "tf_house_size = tf.placeholder(\"float\", name=\"house_size\")\n",
    "tf_price = tf.placeholder(\"float\", name=\"price\")\n",
    "\n",
    "tf_size_factor = tf.Variable(np.random.randn(), name=\"size-factor\")\n",
    "tf_price_offset = tf.Variable(np.random.randn(), name=\"price_offset\")"
   ]
  },
  {
   "cell_type": "code",
   "execution_count": 21,
   "metadata": {},
   "outputs": [],
   "source": [
    "# 2. Define the operations for the prediction values\n",
    "tf_price_pred = tf.add(tf.multiply(tf_size_factor, tf_house_size), tf_price_offset)"
   ]
  },
  {
   "cell_type": "code",
   "execution_count": 22,
   "metadata": {},
   "outputs": [],
   "source": [
    "# 3. Define the Loss Function (how much error) - Mean squared error\n",
    "tf_cost = tf.reduce_sum(tf.pow(tf_price_pred-tf_price, 2))/(2*num_train_samples)\n",
    "\n",
    "# optimizer learning rate. size of the steps down the gradient\n",
    "learning_rate = 0.1"
   ]
  },
  {
   "cell_type": "code",
   "execution_count": 23,
   "metadata": {},
   "outputs": [],
   "source": [
    "# 4. define a Gradient descent optimizer that will min the loss defined in the operation \"cost\"\n",
    "optimizer = tf.train.GradientDescentOptimizer(learning_rate).minimize(tf_cost)"
   ]
  },
  {
   "cell_type": "code",
   "execution_count": 24,
   "metadata": {},
   "outputs": [],
   "source": [
    "# Initialize the variables\n",
    "init = tf.global_variables_initializer()"
   ]
  },
  {
   "cell_type": "code",
   "execution_count": 26,
   "metadata": {},
   "outputs": [
    {
     "name": "stdout",
     "output_type": "stream",
     "text": [
      "iteration #:  0002 cost =  0.720058858 size_factor =  0.091779955 price_offset =  -0.78197587\n",
      "iteration #:  0004 cost =  0.488989949 size_factor =  0.2530591 price_offset =  -0.6400547\n",
      "iteration #:  0006 cost =  0.334198892 size_factor =  0.38506955 price_offset =  -0.52387947\n",
      "iteration #:  0008 cost =  0.230510548 size_factor =  0.4931228 price_offset =  -0.42877954\n",
      "iteration #:  0010 cost =  0.161057353 size_factor =  0.5815667 price_offset =  -0.350931\n",
      "iteration #:  0012 cost =  0.114538938 size_factor =  0.65396035 price_offset =  -0.2872049\n",
      "iteration #:  0014 cost =  0.083384469 size_factor =  0.713216 price_offset =  -0.23503916\n",
      "iteration #:  0016 cost =  0.062521778 size_factor =  0.76171756 price_offset =  -0.19233663\n",
      "iteration #:  0018 cost =  0.048552588 size_factor =  0.8014175 price_offset =  -0.1573807\n",
      "iteration #:  0020 cost =  0.039200630 size_factor =  0.8339127 price_offset =  -0.1287661\n",
      "iteration #:  0022 cost =  0.032940891 size_factor =  0.86051065 price_offset =  -0.10534229\n",
      "iteration #:  0024 cost =  0.028751852 size_factor =  0.882282 price_offset =  -0.08616769\n",
      "iteration #:  0026 cost =  0.025949385 size_factor =  0.90010184 price_offset =  -0.070471555\n",
      "iteration #:  0028 cost =  0.024075126 size_factor =  0.9146879 price_offset =  -0.057622794\n",
      "iteration #:  0030 cost =  0.022822181 size_factor =  0.92662656 price_offset =  -0.047104843\n",
      "iteration #:  0032 cost =  0.021984996 size_factor =  0.9363989 price_offset =  -0.038494956\n",
      "iteration #:  0034 cost =  0.021425983 size_factor =  0.9443974 price_offset =  -0.031446975\n",
      "iteration #:  0036 cost =  0.021052983 size_factor =  0.9509445 price_offset =  -0.025677538\n",
      "iteration #:  0038 cost =  0.020804334 size_factor =  0.9563038 price_offset =  -0.02095472\n",
      "iteration #:  0040 cost =  0.020638786 size_factor =  0.96069014 price_offset =  -0.01708865\n",
      "iteration #:  0042 cost =  0.020528717 size_factor =  0.9642808 price_offset =  -0.013923926\n",
      "iteration #:  0044 cost =  0.020455671 size_factor =  0.96721953 price_offset =  -0.011333294\n",
      "iteration #:  0046 cost =  0.020407302 size_factor =  0.96962523 price_offset =  -0.009212625\n",
      "iteration #:  0048 cost =  0.020375365 size_factor =  0.97159415 price_offset =  -0.0074766637\n",
      "iteration #:  0050 cost =  0.020354355 size_factor =  0.97320557 price_offset =  -0.0060556126\n",
      "Optimization Finished\n",
      "Trained Cost =  Tensor(\"truediv_1:0\", shape=(), dtype=float32) size_factor 0.97320557 price_offset =  -0.0060556126 \n",
      "\n"
     ]
    },
    {
     "ename": "AttributeError",
     "evalue": "'function' object has no attribute 'FuncAnimation'",
     "output_type": "error",
     "traceback": [
      "\u001b[0;31m---------------------------------------------------------------------------\u001b[0m",
      "\u001b[0;31mAttributeError\u001b[0m                            Traceback (most recent call last)",
      "\u001b[0;32m<ipython-input-26-3bf41e5814c8>\u001b[0m in \u001b[0;36m<module>\u001b[0;34m\u001b[0m\n\u001b[1;32m     85\u001b[0m \u001b[0;34m\u001b[0m\u001b[0m\n\u001b[1;32m     86\u001b[0m \u001b[0;34m\u001b[0m\u001b[0m\n\u001b[0;32m---> 87\u001b[0;31m     ani = animation.FuncAnimation(fig, animate, frames=np.arange(0, fit_plot_idx), init_func=initAnim,\n\u001b[0m\u001b[1;32m     88\u001b[0m                                  interval=1000, blit=True)\n\u001b[1;32m     89\u001b[0m \u001b[0;34m\u001b[0m\u001b[0m\n",
      "\u001b[0;31mAttributeError\u001b[0m: 'function' object has no attribute 'FuncAnimation'"
     ]
    },
    {
     "data": {
      "image/png": "[encoded data removed]",
      "text/plain": [
       "<Figure size 720x576 with 1 Axes>"
      ]
     },
     "metadata": {
      "needs_background": "light"
     },
     "output_type": "display_data"
    }
   ],
   "source": [
    "# Launch the graph in the session\n",
    "with tf.Session() as sess:\n",
    "    sess.run(init)\n",
    "\n",
    "    display_every = 2\n",
    "    num_training_iter = 50\n",
    "    \n",
    "    # Calculate the num of lines to animate\n",
    "    fit_num_plots = math.floor(num_training_iter/display_every)\n",
    "    # add storage of factor and offset vals from each epoch\n",
    "    fit_size_factor = np.zeros(fit_num_plots)\n",
    "    fit_price_offsets = np.zeros(fit_num_plots)\n",
    "    fit_plot_idx = 0\n",
    "\n",
    "    # keep iterating the training data\n",
    "    for iteration in range(num_training_iter):\n",
    "\n",
    "        # Fit all training data\n",
    "        for (x, y) in zip(train_house_size_norm, train_price_norm):\n",
    "            sess.run(optimizer, feed_dict={tf_house_size: x, tf_price: y})\n",
    "\n",
    "        # Display current status\n",
    "        if (iteration + 1) % display_every == 0:\n",
    "            c = sess.run(tf_cost, feed_dict={tf_house_size: train_house_size_norm, tf_price:train_price_norm})\n",
    "            print(\"iteration #: \", '%04d' % (iteration + 1), \"cost = \", \"{:.9f}\".format(c), \\\n",
    "                              \"size_factor = \", sess.run(tf_size_factor), \"price_offset = \", sess.run(tf_price_offset))\n",
    "            # Save the fit size_factor and price_offset to allow animation of learning process\n",
    "            fit_size_factor[fit_plot_idx] = sess.run(tf_size_factor)\n",
    "            fit_price_offsets[fit_plot_idx] = sess.run(tf_price_offset)\n",
    "            fit_plot_idx = fit_plot_idx + 1\n",
    "            \n",
    "    print(\"Optimization Finished\")\n",
    "    print(\"Trained Cost = \", tf_cost, \"size_factor\", sess.run(tf_size_factor), \"price_offset = \",\n",
    "          sess.run(tf_price_offset), '\\n')\n",
    "\n",
    "    train_house_size_mean = train_house_size.mean()\n",
    "    train_house_size_std = train_house_size.std()\n",
    "\n",
    "    train_price_mean = train_price.mean()\n",
    "    train_price_std = train_price.std()\n",
    "\n",
    "    \"\"\"# plot the graph\n",
    "    plt.rcParams[\"figure.figsize\"] = (10, 8)\n",
    "    plt.figure()\n",
    "    plt.ylabel(\"Price\")\n",
    "    plt.xlabel(\"Size (sq. ft)\")\n",
    "    plt.plot(train_house_size, train_price, 'go', label='Training data')\n",
    "    plt.plot(test_house_size, test_house_price, 'mo', label='Testing data')\n",
    "    plt.plot(train_house_size_norm * train_house_size_std + train_house_size_mean,\n",
    "            (sess.run(tf_size_factor) * train_house_size_norm + sess.run(tf_price_offset)) * train_price_std + train_price_mean,\n",
    "            label='Learned Regression')\n",
    "\n",
    "    plt.legend(loc='upper left')\n",
    "    plt.show()\"\"\"\n",
    "    \n",
    "    # Plot of training and test data, and linear regression\n",
    "    \n",
    "    # get values used to normalize data so we can denormalize data back to its original scale\n",
    "    train_house_size_mean = train_house_size.mean()\n",
    "    train_house_size_std = train_house_size.std()\n",
    "    \n",
    "    train_price_mean = train_price.mean()\n",
    "    train_price_std = train_price.std()\n",
    "    \n",
    "    \n",
    "    fig, ax = plt.subplots()\n",
    "    line, = ax.plot(house_size, house_price)\n",
    "    \n",
    "    plt.rcParams[\"figure.figsize\"] = (10, 8)\n",
    "    plt.title(\"Gradient Descent Fitting Regression Line\")\n",
    "    plt.ylabel(\"Price\")\n",
    "    plt.xlabel(\"Size (sq. ft)\")\n",
    "    plt.plot(train_house_size, train_price, 'go', label='Training data')\n",
    "    plt.plot(test_house_size, test_house_price, 'mo', label='Testing data')\n",
    "    \n",
    "    def animation(i):\n",
    "        line.set_xdata(train_house_size_norm * train_house_size_std + train_house_size_mean) # update the data\n",
    "        line.set_ydata((fit_size_factor[i] * train_house_size_norm + fit_price_offsets[i]) * train_price_std + train_price_mean)\n",
    "        return line,\n",
    "    \n",
    "    \n",
    "    def initAnim():\n",
    "        line.set_ydata(np.zeros(shape=house_price.shape[0])) # set y's to 0\n",
    "        return line,\n",
    "    \n",
    "    \n",
    "    ani = animation.FuncAnimation(fig, animate, frames=np.arange(0, fit_plot_idx), init_func=initAnim,\n",
    "                                 interval=1000, blit=True)\n",
    "    \n",
    "    \n",
    "    plt.show()\n",
    "    \n"
   ]
  },
  {
   "cell_type": "code",
   "execution_count": null,
   "metadata": {},
   "outputs": [],
   "source": []
  },
  {
   "cell_type": "code",
   "execution_count": null,
   "metadata": {},
   "outputs": [],
   "source": []
  },
  {
   "cell_type": "code",
   "execution_count": null,
   "metadata": {},
   "outputs": [],
   "source": []
  },
  {
   "cell_type": "code",
   "execution_count": null,
   "metadata": {},
   "outputs": [],
   "source": []
  },
  {
   "cell_type": "code",
   "execution_count": null,
   "metadata": {},
   "outputs": [],
   "source": []
  },
  {
   "cell_type": "code",
   "execution_count": null,
   "metadata": {},
   "outputs": [],
   "source": []
  },
  {
   "cell_type": "code",
   "execution_count": null,
   "metadata": {},
   "outputs": [],
   "source": []
  },
  {
   "cell_type": "code",
   "execution_count": null,
   "metadata": {},
   "outputs": [],
   "source": []
  },
  {
   "cell_type": "code",
   "execution_count": null,
   "metadata": {},
   "outputs": [],
   "source": []
  },
  {
   "cell_type": "code",
   "execution_count": null,
   "metadata": {},
   "outputs": [],
   "source": []
  },
  {
   "cell_type": "code",
   "execution_count": null,
   "metadata": {},
   "outputs": [],
   "source": []
  },
  {
   "cell_type": "code",
   "execution_count": null,
   "metadata": {},
   "outputs": [],
   "source": []
  },
  {
   "cell_type": "code",
   "execution_count": null,
   "metadata": {},
   "outputs": [],
   "source": []
  },
  {
   "cell_type": "code",
   "execution_count": null,
   "metadata": {},
   "outputs": [],
   "source": []
  },
  {
   "cell_type": "code",
   "execution_count": null,
   "metadata": {},
   "outputs": [],
   "source": []
  },
  {
   "cell_type": "code",
   "execution_count": null,
   "metadata": {},
   "outputs": [],
   "source": []
  },
  {
   "cell_type": "code",
   "execution_count": null,
   "metadata": {},
   "outputs": [],
   "source": []
  },
  {
   "cell_type": "code",
   "execution_count": null,
   "metadata": {},
   "outputs": [],
   "source": []
  },
  {
   "cell_type": "code",
   "execution_count": null,
   "metadata": {},
   "outputs": [],
   "source": []
  },
  {
   "cell_type": "code",
   "execution_count": null,
   "metadata": {},
   "outputs": [],
   "source": []
  },
  {
   "cell_type": "code",
   "execution_count": null,
   "metadata": {},
   "outputs": [],
   "source": []
  },
  {
   "cell_type": "code",
   "execution_count": null,
   "metadata": {},
   "outputs": [],
   "source": []
  },
  {
   "cell_type": "code",
   "execution_count": null,
   "metadata": {},
   "outputs": [],
   "source": []
  },
  {
   "cell_type": "code",
   "execution_count": null,
   "metadata": {},
   "outputs": [],
   "source": []
  },
  {
   "cell_type": "code",
   "execution_count": null,
   "metadata": {},
   "outputs": [],
   "source": []
  },
  {
   "cell_type": "code",
   "execution_count": null,
   "metadata": {},
   "outputs": [],
   "source": []
  },
  {
   "cell_type": "code",
   "execution_count": null,
   "metadata": {},
   "outputs": [],
   "source": []
  },
  {
   "cell_type": "code",
   "execution_count": null,
   "metadata": {},
   "outputs": [],
   "source": []
  },
  {
   "cell_type": "code",
   "execution_count": null,
   "metadata": {},
   "outputs": [],
   "source": []
  },
  {
   "cell_type": "code",
   "execution_count": null,
   "metadata": {},
   "outputs": [],
   "source": []
  },
  {
   "cell_type": "code",
   "execution_count": null,
   "metadata": {},
   "outputs": [],
   "source": []
  },
  {
   "cell_type": "code",
   "execution_count": null,
   "metadata": {},
   "outputs": [],
   "source": []
  },
  {
   "cell_type": "code",
   "execution_count": null,
   "metadata": {},
   "outputs": [],
   "source": []
  },
  {
   "cell_type": "code",
   "execution_count": null,
   "metadata": {},
   "outputs": [],
   "source": []
  },
  {
   "cell_type": "code",
   "execution_count": null,
   "metadata": {},
   "outputs": [],
   "source": []
  },
  {
   "cell_type": "code",
   "execution_count": null,
   "metadata": {},
   "outputs": [],
   "source": []
  },
  {
   "cell_type": "code",
   "execution_count": null,
   "metadata": {},
   "outputs": [],
   "source": []
  },
  {
   "cell_type": "code",
   "execution_count": null,
   "metadata": {},
   "outputs": [],
   "source": []
  },
  {
   "cell_type": "code",
   "execution_count": null,
   "metadata": {},
   "outputs": [],
   "source": []
  },
  {
   "cell_type": "code",
   "execution_count": null,
   "metadata": {},
   "outputs": [],
   "source": []
  },
  {
   "cell_type": "code",
   "execution_count": null,
   "metadata": {},
   "outputs": [],
   "source": []
  },
  {
   "cell_type": "code",
   "execution_count": null,
   "metadata": {},
   "outputs": [],
   "source": []
  },
  {
   "cell_type": "code",
   "execution_count": null,
   "metadata": {},
   "outputs": [],
   "source": []
  },
  {
   "cell_type": "code",
   "execution_count": null,
   "metadata": {},
   "outputs": [],
   "source": []
  },
  {
   "cell_type": "code",
   "execution_count": null,
   "metadata": {},
   "outputs": [],
   "source": []
  },
  {
   "cell_type": "code",
   "execution_count": null,
   "metadata": {},
   "outputs": [],
   "source": []
  },
  {
   "cell_type": "code",
   "execution_count": null,
   "metadata": {},
   "outputs": [],
   "source": []
  },
  {
   "cell_type": "code",
   "execution_count": null,
   "metadata": {},
   "outputs": [],
   "source": []
  },
  {
   "cell_type": "code",
   "execution_count": null,
   "metadata": {},
   "outputs": [],
   "source": []
  },
  {
   "cell_type": "code",
   "execution_count": null,
   "metadata": {},
   "outputs": [],
   "source": []
  },
  {
   "cell_type": "code",
   "execution_count": null,
   "metadata": {},
   "outputs": [],
   "source": []
  },
  {
   "cell_type": "code",
   "execution_count": null,
   "metadata": {},
   "outputs": [],
   "source": []
  },
  {
   "cell_type": "code",
   "execution_count": null,
   "metadata": {},
   "outputs": [],
   "source": []
  },
  {
   "cell_type": "code",
   "execution_count": null,
   "metadata": {},
   "outputs": [],
   "source": []
  },
  {
   "cell_type": "code",
   "execution_count": null,
   "metadata": {},
   "outputs": [],
   "source": []
  },
  {
   "cell_type": "code",
   "execution_count": null,
   "metadata": {},
   "outputs": [],
   "source": []
  },
  {
   "cell_type": "code",
   "execution_count": null,
   "metadata": {},
   "outputs": [],
   "source": []
  },
  {
   "cell_type": "code",
   "execution_count": null,
   "metadata": {},
   "outputs": [],
   "source": []
  },
  {
   "cell_type": "code",
   "execution_count": null,
   "metadata": {},
   "outputs": [],
   "source": []
  },
  {
   "cell_type": "code",
   "execution_count": null,
   "metadata": {},
   "outputs": [],
   "source": []
  },
  {
   "cell_type": "code",
   "execution_count": null,
   "metadata": {},
   "outputs": [],
   "source": []
  },
  {
   "cell_type": "code",
   "execution_count": null,
   "metadata": {},
   "outputs": [],
   "source": []
  },
  {
   "cell_type": "code",
   "execution_count": null,
   "metadata": {},
   "outputs": [],
   "source": []
  },
  {
   "cell_type": "code",
   "execution_count": null,
   "metadata": {},
   "outputs": [],
   "source": []
  },
  {
   "cell_type": "code",
   "execution_count": null,
   "metadata": {},
   "outputs": [],
   "source": []
  },
  {
   "cell_type": "code",
   "execution_count": null,
   "metadata": {},
   "outputs": [],
   "source": []
  },
  {
   "cell_type": "code",
   "execution_count": null,
   "metadata": {},
   "outputs": [],
   "source": []
  },
  {
   "cell_type": "code",
   "execution_count": null,
   "metadata": {},
   "outputs": [],
   "source": []
  },
  {
   "cell_type": "code",
   "execution_count": null,
   "metadata": {},
   "outputs": [],
   "source": []
  },
  {
   "cell_type": "code",
   "execution_count": null,
   "metadata": {},
   "outputs": [],
   "source": []
  },
  {
   "cell_type": "code",
   "execution_count": null,
   "metadata": {},
   "outputs": [],
   "source": []
  },
  {
   "cell_type": "code",
   "execution_count": null,
   "metadata": {},
   "outputs": [],
   "source": []
  },
  {
   "cell_type": "code",
   "execution_count": null,
   "metadata": {},
   "outputs": [],
   "source": []
  },
  {
   "cell_type": "code",
   "execution_count": null,
   "metadata": {},
   "outputs": [],
   "source": []
  },
  {
   "cell_type": "code",
   "execution_count": null,
   "metadata": {},
   "outputs": [],
   "source": []
  },
  {
   "cell_type": "code",
   "execution_count": null,
   "metadata": {},
   "outputs": [],
   "source": []
  },
  {
   "cell_type": "code",
   "execution_count": null,
   "metadata": {},
   "outputs": [],
   "source": []
  },
  {
   "cell_type": "code",
   "execution_count": null,
   "metadata": {},
   "outputs": [],
   "source": []
  },
  {
   "cell_type": "code",
   "execution_count": null,
   "metadata": {},
   "outputs": [],
   "source": []
  },
  {
   "cell_type": "code",
   "execution_count": null,
   "metadata": {},
   "outputs": [],
   "source": []
  },
  {
   "cell_type": "code",
   "execution_count": null,
   "metadata": {},
   "outputs": [],
   "source": []
  },
  {
   "cell_type": "code",
   "execution_count": null,
   "metadata": {},
   "outputs": [],
   "source": []
  },
  {
   "cell_type": "code",
   "execution_count": null,
   "metadata": {},
   "outputs": [],
   "source": []
  },
  {
   "cell_type": "code",
   "execution_count": null,
   "metadata": {},
   "outputs": [],
   "source": []
  }
 ],
 "metadata": {
  "kernelspec": {
   "display_name": "Python 3",
   "language": "python",
   "name": "python3"
  },
  "language_info": {
   "codemirror_mode": {
    "name": "ipython",
    "version": 3
   },
   "file_extension": ".py",
   "mimetype": "text/x-python",
   "name": "python",
   "nbconvert_exporter": "python",
   "pygments_lexer": "ipython3",
   "version": "3.7.7"
  }
 },
 "nbformat": 4,
 "nbformat_minor": 4
}
